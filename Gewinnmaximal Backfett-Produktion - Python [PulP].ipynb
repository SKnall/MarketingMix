{
 "cells": [
  {
   "cell_type": "markdown",
   "id": "26760bf9",
   "metadata": {},
   "source": [
    "# Gewinnmaximal Backfett-Produktion\n",
    "\n",
    "#### Unternehmen „Schmier&Partner“ produziert Backfett „Ramalin“\n",
    "\n",
    "#### Backfett entsteht durch Mischen verschiedener pflanzlicher & tierischer Rohfette\n",
    " - zwei Sorten pflanzlicher Fette (Fett 1 und 2)\n",
    " - drei Sorten tierischer Fette (Fett 3, 4 und 5)\n",
    " \n",
    "#### Rohfette müssen vor Verwendung veredelt werden\n",
    " - Produktionslinie für Veredelung pflanzlichen Rohfetts: Kapazität von 200 t\n",
    " - Produktionslinie für Veredelung tierischen Rohfetts: Kapazität von 250 t\n",
    " \n",
    "#### Beschaffungskosten pro Tonne und Härtegrade dieser verschiedenen Rohfette:\n",
    " - Fett 1: 110€ Härtegrad 8.8\n",
    " - Fett 2: 120€ Härtegrad 6.1\n",
    " - Fett 3: 130€ Härtegrad 2.0\n",
    " - Fett 4: 110€ Härtegrad 4.2\n",
    " - Fett 5: 115€ Härtegrad 5.0\n",
    " \n",
    "#### Zusammenmischen von Fetten verschiedener Härtegrade ergibt ein Mischfett\n",
    "\n",
    "#### Härtegrad von Mischfett ergibt sich aus nach Mengen gewichtetem Mittel der einzelnen Härtegrade\n",
    "\n",
    "#### Kein Mengenverlust bei Veredeln und Mischen\n",
    "\n",
    "#### Für Endprodukt „Ramalin“ ist Härtegrad zwischen 3 und 6 zulässig\n",
    "\n",
    "#### Verkaufserlös pro Tonne „Ramalin“ = 150 Euro\n",
    "\n",
    "### Zielsetzung: Gesamtgewinn pro Monat maximieren"
   ]
  },
  {
   "cell_type": "code",
   "execution_count": 1,
   "id": "07bf1f50",
   "metadata": {},
   "outputs": [],
   "source": [
    "# Importieren der nötigen Bibliotheken\n",
    "import pulp\n",
    "from pulp import *"
   ]
  },
  {
   "cell_type": "code",
   "execution_count": 2,
   "id": "3f780eca",
   "metadata": {},
   "outputs": [],
   "source": [
    "# Parameter\n",
    "\n",
    "# Benennung der Einzelnen Variablen\n",
    "Fette = [\"Fett1\", \"Fett2\", \"Fett3\", \"Fett4\", \"Fett5\"]\n",
    "\n",
    "#Erstellen von dictionaries\n",
    "\n",
    "#Zuordnung Pflanzlich oder Tierisch\n",
    "typ = {\n",
    "    'Fett1' : 'Pfl',\n",
    "    'Fett2' : 'Pfl',\n",
    "    'Fett3' : 'Tier',\n",
    "    'Fett4' : 'Tier',\n",
    "    'Fett5' : 'Tier',\n",
    "}\n",
    "#Zuordnung der Kosten\n",
    "kosten = {\n",
    "    'Fett1': 110,\n",
    "    'Fett2': 120,\n",
    "    'Fett3': 130,\n",
    "    'Fett4': 110,\n",
    "    'Fett5': 115,\n",
    "}\n",
    "#Zuordnen der Härte\n",
    "haerte = {\n",
    "    'Fett1': 8.8,\n",
    "    'Fett2': 6.1,\n",
    "    'Fett3': 2.0,\n",
    "    'Fett4': 4.2,\n",
    "    'Fett5': 5.0,\n",
    "}\n",
    "\n",
    "\n",
    "# Festlegen Verkaufserlös\n",
    "erloes = 150\n",
    "\n",
    "#Festlegen Kapazitäten\n",
    "pflanz_kap = 200\n",
    "tier_kap = 250\n",
    "\n",
    "#Festlegen Härtegrade\n",
    "min_haerte = 3\n",
    "max_haerte = 6\n"
   ]
  },
  {
   "cell_type": "code",
   "execution_count": 3,
   "id": "7afec0e1",
   "metadata": {},
   "outputs": [],
   "source": [
    "# Erstellen eines neuen PulP-Modells\n",
    "prob = LpProblem(\"Backfett\", LpMaximize)"
   ]
  },
  {
   "cell_type": "code",
   "execution_count": 4,
   "id": "f7281f49",
   "metadata": {},
   "outputs": [],
   "source": [
    "# Definieren der Variablen für verbrauchte und produzierte Fette\n",
    "rohfett = LpVariable.dicts(\"rf\", Fette, 0)\n",
    "ramalin = LpVariable (\"Produziert\")"
   ]
  },
  {
   "cell_type": "code",
   "execution_count": 5,
   "id": "7933c0c0",
   "metadata": {},
   "outputs": [],
   "source": [
    "#Zielfunktion\n",
    "prob += erloes * ramalin - lpSum([kosten[f] * rohfett[f] for f in Fette])"
   ]
  },
  {
   "cell_type": "code",
   "execution_count": 6,
   "id": "6b14cd51",
   "metadata": {},
   "outputs": [],
   "source": [
    "# Unter der Nebenbedingung 1: Kapazitätsreduktion für pflanzliche Fette\n",
    "prob += (lpSum(rohfett[f] for f in Fette if typ[f] == \"Pfl\") <= pflanz_kap, \"Kapazitaetsbeschraenkung pflanzliche Fette\",)"
   ]
  },
  {
   "cell_type": "code",
   "execution_count": 7,
   "id": "fc72853a",
   "metadata": {},
   "outputs": [],
   "source": [
    "# Unter der Nebenbedingung 2: Kapazitätsreduktion für tierische Fette\n",
    "prob += (lpSum(rohfett[f] for f in Fette if typ[f] == \"Tier\") <= tier_kap, \"Kapazitaetsbeschraenkung tierische Fette\",)"
   ]
  },
  {
   "cell_type": "code",
   "execution_count": 8,
   "id": "0eb0259d",
   "metadata": {},
   "outputs": [],
   "source": [
    "# Unter der Nebenbedingung 3: mindest Härtegrad 3\n",
    "prob += (lpSum(haerte[f] * rohfett[f] for f in Fette) >= min_haerte*ramalin, \"Mindest Haerte\",)"
   ]
  },
  {
   "cell_type": "code",
   "execution_count": 9,
   "id": "d9472183",
   "metadata": {},
   "outputs": [],
   "source": [
    "# Unter der Nebenbedingung 3: max Härtegrad 6\n",
    "prob += (lpSum(haerte[f] * rohfett[f] for f in Fette) <= max_haerte*ramalin, \"Max Haerte\",)"
   ]
  },
  {
   "cell_type": "code",
   "execution_count": 10,
   "id": "89305ee2",
   "metadata": {},
   "outputs": [],
   "source": [
    "# Unter der Nebenbedingung 5: Gesammtmenge entspricht Summe der Mengen\n",
    "prob += (lpSum(rohfett[f] for f in Fette) == ramalin, \"Gesammtmenge\",)"
   ]
  },
  {
   "cell_type": "code",
   "execution_count": 11,
   "id": "efe3cb05",
   "metadata": {},
   "outputs": [
    {
     "data": {
      "text/plain": [
       "[Produziert, rf_Fett1, rf_Fett2, rf_Fett3, rf_Fett4, rf_Fett5]"
      ]
     },
     "execution_count": 11,
     "metadata": {},
     "output_type": "execute_result"
    }
   ],
   "source": [
    "#Problem in eine .lp Datei speichern\n",
    "prob.writeLP(\"Backfett.lp\")"
   ]
  },
  {
   "cell_type": "code",
   "execution_count": 12,
   "id": "b34c942a",
   "metadata": {},
   "outputs": [
    {
     "data": {
      "text/plain": [
       "1"
      ]
     },
     "execution_count": 12,
     "metadata": {},
     "output_type": "execute_result"
    }
   ],
   "source": [
    "# Modell lösen\n",
    "prob.solve()"
   ]
  },
  {
   "cell_type": "code",
   "execution_count": 13,
   "id": "de415d7b",
   "metadata": {},
   "outputs": [
    {
     "name": "stdout",
     "output_type": "stream",
     "text": [
      "Status: Optimal\n"
     ]
    }
   ],
   "source": [
    "# Augeben des Status\n",
    "print(\"Status:\", LpStatus[prob.status])"
   ]
  },
  {
   "cell_type": "code",
   "execution_count": 14,
   "id": "f44a243b",
   "metadata": {},
   "outputs": [
    {
     "name": "stdout",
     "output_type": "stream",
     "text": [
      "Produziert = 450.0\n",
      "rf_Fett1 = 159.259\n",
      "rf_Fett2 = 40.7407\n",
      "rf_Fett3 = 0.0\n",
      "rf_Fett4 = 250.0\n",
      "rf_Fett5 = 0.0\n",
      "Gesammtgewinn:  17592.626000000004\n"
     ]
    }
   ],
   "source": [
    "# Ausgeben der Mengen für die jeweilige Variablen\n",
    "for v in prob.variables():\n",
    "    print(v.name, \"=\", v.varValue)\n",
    "        \n",
    "# Ausgeben Gesamtgewinn\n",
    "print(\"Gesammtgewinn: \", value(prob.objective))"
   ]
  }
 ],
 "metadata": {
  "kernelspec": {
   "display_name": "Python 3",
   "language": "python",
   "name": "python3"
  },
  "language_info": {
   "codemirror_mode": {
    "name": "ipython",
    "version": 3
   },
   "file_extension": ".py",
   "mimetype": "text/x-python",
   "name": "python",
   "nbconvert_exporter": "python",
   "pygments_lexer": "ipython3",
   "version": "3.8.8"
  }
 },
 "nbformat": 4,
 "nbformat_minor": 5
}
