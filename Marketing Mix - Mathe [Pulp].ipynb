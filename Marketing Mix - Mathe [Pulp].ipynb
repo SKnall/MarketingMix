{
 "cells": [
  {
   "cell_type": "markdown",
   "id": "7ad2ee66",
   "metadata": {},
   "source": [
    "# Marketing Mix\n",
    "\n",
    "#### Ein Unternehmen stellt ein Hightech-Produkt her, das an industrielle Kunden auf drei Teilmärkten abgesetzt wird. Dort bestehen jeweils bekannte Höchstabsatzmengen.\n",
    "\n",
    "#### Es stehen zwei Marketinginstrumente Werbung und persönlicher Verkauf zur Verfügung. Das Werbebudget hat eine Höhe von 250.000,-€, die Arbeitszeit der sechs Vertreter im Planungszeitraum beträgt jeweils 40 Std.\n",
    "\n",
    "#### Auf den Teilmärkten ergeben sich unterschiedliche Deckungsbeiträge pro verkaufter ME des Produktes; außerdem sind die dafür erforderlichen Werbeaufwendungen und Vertretereinsatzzeiten unterschiedlich (und nicht gegeneinander substituierbar).\n",
    "\n",
    "#### Es ist zu entscheiden, wie die beschränkten Kapazitäten der Instrumente auf die Teilmärkte verteilt werden sollen, um den Gesamtdeckungsbeitrag zu maximieren.\n",
    "\n",
    "#### Folgende Daten stehen zur Verfügung\n",
    "\n",
    " - Vetretereinsatzzeit je abgesetzter Einheit (in Std.):\n",
    "     - Markt 1: 7\n",
    "     - Markt 2: 6\n",
    "     - Markt 3: 11\n",
    "     \n",
    " - Werbeaufwand je abgesetzter Einheit (in T€):\n",
    "     - Markt 1: 8\n",
    "     - Markt 2: 9\n",
    "     - Markt 3: 5\n",
    "     \n",
    " - Stückdeckungsbeitrag (in T€):\n",
    "     - Markt 1: 11\n",
    "     - Markt 2: 9\n",
    "     - Markt 3: 12\n",
    "     \n",
    " - Absatzhöchstmenge:\n",
    "     - Markt 1: 10\n",
    "     - Markt 2: 14\n",
    "     - Markt 3: 9"
   ]
  },
  {
   "cell_type": "code",
   "execution_count": 15,
   "id": "921b589c",
   "metadata": {},
   "outputs": [],
   "source": [
    "# Importieren der benötigten Bibliotheken\n",
    "import pulp\n",
    "from pulp import *"
   ]
  },
  {
   "cell_type": "code",
   "execution_count": 21,
   "id": "4ae06520",
   "metadata": {},
   "outputs": [],
   "source": [
    "# Erstellen eines neuen PulP-Modells und festlegen ob es ein Maximierungs- oder Minimierungsproblem sein soll.\n",
    "prob = LpProblem(\"MarketingMix\", LpMaximize)"
   ]
  },
  {
   "cell_type": "code",
   "execution_count": 22,
   "id": "92706b61",
   "metadata": {},
   "outputs": [],
   "source": [
    "# Erstellen der Variablen\n",
    "## PulP Variablen bestehen aus vier Parametern: Name, Untere Grenze, Obere Grenze und diskret oder linear\n",
    "### Ist kein Wert für ein Parameter angegeben, so nimmt PulP Standartwerte vor.\n",
    "\n",
    "x1 = LpVariable(\"AbsatzmengeMarkt1\", 0, None, LpInteger)\n",
    "x2 = LpVariable(\"AbsatzmengeMarkt2\", 0, None, LpInteger)\n",
    "x3 = LpVariable(\"AbsatzmengeMarkt3\", 0, None, LpInteger)"
   ]
  },
  {
   "cell_type": "code",
   "execution_count": 23,
   "id": "207140f5",
   "metadata": {},
   "outputs": [],
   "source": [
    "# Festlegen der Zielfunktion\n",
    "prob += 11*x1 + 9*x2 + 12*x3, \"Gesamterloes\""
   ]
  },
  {
   "cell_type": "code",
   "execution_count": 24,
   "id": "771aa1d5",
   "metadata": {},
   "outputs": [],
   "source": [
    "# Unter der Nebenbedingung 1: Begrenzung Vertreterarbeitszeit - 6 Vertreter á 40 Stunde = 240\n",
    "prob += 7*x1 + 6*x2 + 11*x3 <= 240, \"NB01\""
   ]
  },
  {
   "cell_type": "code",
   "execution_count": null,
   "id": "022c10a1",
   "metadata": {},
   "outputs": [],
   "source": [
    "# Unter der Nebenbedingung 2: Begrenzung Budget\n",
    "prob += 8*x1 + 9*x2 + 5*x3 <= 250, \"NB02\""
   ]
  },
  {
   "cell_type": "code",
   "execution_count": null,
   "id": "af91f35b",
   "metadata": {},
   "outputs": [],
   "source": [
    "# Unter der Nebenbedingung 3: Absatzhöchstmenge Markt 1\n",
    "prob += x1 <= 10, \"NB03\""
   ]
  },
  {
   "cell_type": "code",
   "execution_count": null,
   "id": "0c7dbf7c",
   "metadata": {},
   "outputs": [],
   "source": [
    "# Unter der Nebenbedingung 4: Absatzhöchstmenge Markt 2\n",
    "prob += x2 <= 14, \"NB04\""
   ]
  },
  {
   "cell_type": "code",
   "execution_count": null,
   "id": "f38d5893",
   "metadata": {},
   "outputs": [],
   "source": [
    "# Unter der Nebenbedingung 5: Absatzhöchstmenge Markt 3\n",
    "prob += x3 <= 9, \"NB05\""
   ]
  },
  {
   "cell_type": "code",
   "execution_count": null,
   "id": "faaacdac",
   "metadata": {},
   "outputs": [],
   "source": [
    "# Unter der Nebenbedingung 6: Nichtnegativität\n",
    "# Durch Erstellen der Variablen schon erfüllt"
   ]
  },
  {
   "cell_type": "code",
   "execution_count": 25,
   "id": "227b25f0",
   "metadata": {},
   "outputs": [
    {
     "data": {
      "text/plain": [
       "[AbsatzmengeMarkt1, AbsatzmengeMarkt2, AbsatzmengeMarkt3]"
      ]
     },
     "execution_count": 25,
     "metadata": {},
     "output_type": "execute_result"
    }
   ],
   "source": [
    "#Problem in eine .lp Datei speichern\n",
    "prob.writeLP(\"MarketingMix.lp\")"
   ]
  },
  {
   "cell_type": "code",
   "execution_count": 26,
   "id": "a0e32028",
   "metadata": {},
   "outputs": [
    {
     "data": {
      "text/plain": [
       "1"
      ]
     },
     "execution_count": 26,
     "metadata": {},
     "output_type": "execute_result"
    }
   ],
   "source": [
    "# Modell lösen\n",
    "prob.solve()"
   ]
  },
  {
   "cell_type": "code",
   "execution_count": 27,
   "id": "18af7f31",
   "metadata": {},
   "outputs": [
    {
     "name": "stdout",
     "output_type": "stream",
     "text": [
      "Status: Optimal\n"
     ]
    }
   ],
   "source": [
    "# Augeben des Status\n",
    "print(\"Status:\", LpStatus[prob.status])"
   ]
  },
  {
   "cell_type": "code",
   "execution_count": 29,
   "id": "c7b7379e",
   "metadata": {},
   "outputs": [
    {
     "name": "stdout",
     "output_type": "stream",
     "text": [
      "AbsatzmengeMarkt1 = 9\n",
      "AbsatzmengeMarkt2 = 13\n",
      "AbsatzmengeMarkt3 = 9\n",
      "Gesammtgewinn:  324\n"
     ]
    }
   ],
   "source": [
    "# Ausgeben der Mengen für die jeweilige Variablen\n",
    "for v in prob.variables():\n",
    "    print(v.name, \"=\", v.varValue)\n",
    "        \n",
    "# Ausgeben Gesamtgewinn\n",
    "print(\"Gesammtgewinn: \", value(prob.objective))"
   ]
  },
  {
   "cell_type": "code",
   "execution_count": null,
   "id": "cba9098e",
   "metadata": {},
   "outputs": [],
   "source": []
  }
 ],
 "metadata": {
  "kernelspec": {
   "display_name": "Python 3",
   "language": "python",
   "name": "python3"
  },
  "language_info": {
   "codemirror_mode": {
    "name": "ipython",
    "version": 3
   },
   "file_extension": ".py",
   "mimetype": "text/x-python",
   "name": "python",
   "nbconvert_exporter": "python",
   "pygments_lexer": "ipython3",
   "version": "3.8.8"
  }
 },
 "nbformat": 4,
 "nbformat_minor": 5
}
