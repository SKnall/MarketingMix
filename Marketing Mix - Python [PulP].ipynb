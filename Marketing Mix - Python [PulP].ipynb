{
 "cells": [
  {
   "cell_type": "markdown",
   "id": "df11265c",
   "metadata": {},
   "source": [
    "# Marketing Mix\n",
    "\n",
    "#### Ein Unternehmen stellt ein Hightech-Produkt her, das an industrielle Kunden auf drei Teilmärkten abgesetzt wird. Dort bestehen jeweils bekannte Höchstabsatzmengen.\n",
    "\n",
    "#### Es stehen zwei Marketinginstrumente Werbung und persönlicher Verkauf zur Verfügung. Das Werbebudget hat eine Höhe von 250.000,-€, die Arbeitszeit der sechs Vertreter im Planungszeitraum beträgt jeweils 40 Std.\n",
    "\n",
    "#### Auf den Teilmärkten ergeben sich unterschiedliche Deckungsbeiträge pro verkaufter ME des Produktes; außerdem sind die dafür erforderlichen Werbeaufwendungen und Vertretereinsatzzeiten unterschiedlich (und nicht gegeneinander substituierbar).\n",
    "\n",
    "#### Es ist zu entscheiden, wie die beschränkten Kapazitäten der Instrumente auf die Teilmärkte verteilt werden sollen, um den Gesamtdeckungsbeitrag zu maximieren.\n",
    "\n",
    "#### Folgende Daten stehen zur Verfügung\n",
    "\n",
    "  \n",
    " - Vetretereinsatzzeit je abgesetzter Einheit (in Std.):\n",
    "     - Markt 1: 7\n",
    "     - Markt 2: 6\n",
    "     - Markt 3: 11\n",
    "     \n",
    " - Werbeaufwand je abgesetzter Einheit (in T€):\n",
    "     - Markt 1: 8\n",
    "     - Markt 2: 9\n",
    "     - Markt 3: 5\n",
    "     \n",
    " - Stückdeckungsbeitrag (in T€):\n",
    "     - Markt 1: 11\n",
    "     - Markt 2: 9\n",
    "     - Markt 3: 12\n",
    "     \n",
    " - Absatzhöchstmenge:\n",
    "     - Markt 1: 10\n",
    "     - Markt 2: 14\n",
    "     - Markt 3: 9"
   ]
  },
  {
   "cell_type": "code",
   "execution_count": 1,
   "id": "d529c03d",
   "metadata": {},
   "outputs": [],
   "source": [
    "# Importieren der nötigen Bibliotheken\n",
    "import pulp\n",
    "from pulp import *"
   ]
  },
  {
   "cell_type": "code",
   "execution_count": 2,
   "id": "2c846dcc",
   "metadata": {},
   "outputs": [],
   "source": [
    "# Parameter\n",
    "\n",
    "# Benennung der Einzelnen Variablen\n",
    "Maerkte = [\"Markt1\", \"Markt2\", \"Markt3\"]\n",
    "\n",
    "# Zuordnen der Absatzhöchstmenge zu den Märkten\n",
    "absatzmax = {\n",
    "    \"Markt1\": 10, \n",
    "    \"Markt2\": 14, \n",
    "    \"Markt3\": 9,\n",
    "}\n",
    "\n",
    "# Zuordnen der Vertretereinsatzzeit zu den Märkten\n",
    "vertreterzeit = {\n",
    "    \"Markt1\": 7,\n",
    "    \"Markt2\": 6,\n",
    "    \"Markt3\": 11,\n",
    "}\n",
    "\n",
    "# Zuordnen des Werbeaufwands zu den Märkten\n",
    "werbeaufwand = {\"Markt1\": 8,\n",
    "                \"Markt2\": 9,\n",
    "                \"Markt3\": 5,\n",
    "}\n",
    "\n",
    "#Zuordnen des Deckungsbeitrags zu den Märkten\n",
    "db = {\"Markt1\": 11,\n",
    "      \"Markt2\": 9,\n",
    "      \"Markt3\": 12,\n",
    "}\n",
    "\n",
    "#Festlegen der jeweiligen Kapazitäten\n",
    "werbebudget = 250\n",
    "maxarbeitszeit = 240"
   ]
  },
  {
   "cell_type": "code",
   "execution_count": 3,
   "id": "34492975",
   "metadata": {},
   "outputs": [],
   "source": [
    "# Erstellen eines neuen PulP-Modells\n",
    "prob = LpProblem(\"MarketingMix\", LpMaximize)"
   ]
  },
  {
   "cell_type": "code",
   "execution_count": 4,
   "id": "325072e0",
   "metadata": {},
   "outputs": [],
   "source": [
    "# Festlegen der zu ermittelnden Variablen\n",
    "einsatz = LpVariable.dicts('',Maerkte, 0, None, LpInteger)"
   ]
  },
  {
   "cell_type": "code",
   "execution_count": 5,
   "id": "29850c69",
   "metadata": {},
   "outputs": [],
   "source": [
    "#Zielfunktion\n",
    "prob += lpSum(db[markt]*einsatz[markt] for markt in Maerkte)"
   ]
  },
  {
   "cell_type": "code",
   "execution_count": 6,
   "id": "c811ed90",
   "metadata": {},
   "outputs": [],
   "source": [
    "# Unter der Nebenbedingung 1: Vertretereinsatzzeit\n",
    "prob += (lpSum(vertreterzeit[markt] * einsatz[markt] for markt in Maerkte) <= maxarbeitszeit, \"Kapazitaet_Vertreter\",)"
   ]
  },
  {
   "cell_type": "code",
   "execution_count": 7,
   "id": "086eef1e",
   "metadata": {},
   "outputs": [],
   "source": [
    "# Unter der Nebenbedingung 2: Budgetrestriktion\n",
    "prob += (lpSum(werbeaufwand[markt] * einsatz[markt] for markt in Maerkte) <= werbebudget, \"Kapazitaet_Budget\")"
   ]
  },
  {
   "cell_type": "code",
   "execution_count": 8,
   "id": "3fb49b25",
   "metadata": {},
   "outputs": [],
   "source": [
    "#Unter der Nebenbedingung 3: Absatzmaximum\n",
    "for markt in Maerkte:\n",
    "    prob += einsatz[markt] <= absatzmax[markt]"
   ]
  },
  {
   "cell_type": "code",
   "execution_count": 9,
   "id": "50beb76e",
   "metadata": {},
   "outputs": [
    {
     "data": {
      "text/plain": [
       "[_Markt1, _Markt2, _Markt3]"
      ]
     },
     "execution_count": 9,
     "metadata": {},
     "output_type": "execute_result"
    }
   ],
   "source": [
    "#Problem in eine .lp Datei speichern\n",
    "prob.writeLP(\"MarketingMix.lp\")"
   ]
  },
  {
   "cell_type": "code",
   "execution_count": 10,
   "id": "10d5a62d",
   "metadata": {},
   "outputs": [
    {
     "data": {
      "text/plain": [
       "1"
      ]
     },
     "execution_count": 10,
     "metadata": {},
     "output_type": "execute_result"
    }
   ],
   "source": [
    "# Modell lösen\n",
    "prob.solve()"
   ]
  },
  {
   "cell_type": "code",
   "execution_count": 11,
   "id": "7b7121ca",
   "metadata": {},
   "outputs": [
    {
     "name": "stdout",
     "output_type": "stream",
     "text": [
      "Status: Optimal\n"
     ]
    }
   ],
   "source": [
    "# Augeben des Status\n",
    "print(\"Status:\", LpStatus[prob.status])"
   ]
  },
  {
   "cell_type": "code",
   "execution_count": 12,
   "id": "067f6bdf",
   "metadata": {},
   "outputs": [
    {
     "name": "stdout",
     "output_type": "stream",
     "text": [
      "_Markt1 = 9\n",
      "_Markt2 = 13\n",
      "_Markt3 = 9\n",
      "Gesammtgewinn:  324\n"
     ]
    }
   ],
   "source": [
    "# Ausgeben der Mengen für die jeweilige Variablen\n",
    "for v in prob.variables():\n",
    "    print(v.name, \"=\", v.varValue)\n",
    "        \n",
    "# Ausgeben Gesamtgewinn\n",
    "print(\"Gesammtgewinn: \", value(prob.objective))"
   ]
  },
  {
   "cell_type": "code",
   "execution_count": null,
   "id": "9f783ba0",
   "metadata": {},
   "outputs": [],
   "source": []
  }
 ],
 "metadata": {
  "kernelspec": {
   "display_name": "Python 3",
   "language": "python",
   "name": "python3"
  },
  "language_info": {
   "codemirror_mode": {
    "name": "ipython",
    "version": 3
   },
   "file_extension": ".py",
   "mimetype": "text/x-python",
   "name": "python",
   "nbconvert_exporter": "python",
   "pygments_lexer": "ipython3",
   "version": "3.8.8"
  }
 },
 "nbformat": 4,
 "nbformat_minor": 5
}
