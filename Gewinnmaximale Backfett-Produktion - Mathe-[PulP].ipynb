{
 "cells": [
  {
   "cell_type": "markdown",
   "id": "cffbae65",
   "metadata": {},
   "source": [
    "# Gewinnmaximal Backfett-Produktion\n",
    "\n",
    "#### Unternehmen „Schmier&Partner“ produziert Backfett „Ramalin“\n",
    "\n",
    "#### Backfett entsteht durch Mischen verschiedener pflanzlicher & tierischer Rohfette\n",
    " - zwei Sorten pflanzlicher Fette (Fett 1 und 2)\n",
    " - drei Sorten tierischer Fette (Fett 3, 4 und 5)\n",
    " \n",
    "#### Rohfette müssen vor Verwendung veredelt werden\n",
    " - Produktionslinie für Veredelung pflanzlichen Rohfetts: Kapazität von 200 t\n",
    " - Produktionslinie für Veredelung tierischen Rohfetts: Kapazität von 250 t\n",
    " \n",
    "#### Beschaffungskosten pro Tonne und Härtegrade dieser verschiedenen Rohfette:\n",
    " - Fett 1: 110€ Härtegrad 8.8\n",
    " - Fett 2: 120€ Härtegrad 6.1\n",
    " - Fett 3: 130€ Härtegrad 2.0\n",
    " - Fett 4: 110€ Härtegrad 4.2\n",
    " - Fett 5: 115€ Härtegrad 5.0\n",
    " \n",
    "#### Zusammenmischen von Fetten verschiedener Härtegrade ergibt ein Mischfett\n",
    "\n",
    "#### Härtegrad von Mischfett ergibt sich aus nach Mengen gewichtetem Mittel der einzelnen Härtegrade\n",
    "\n",
    "#### Kein Mengenverlust bei Veredeln und Mischen\n",
    "\n",
    "#### Für Endprodukt „Ramalin“ ist Härtegrad zwischen 3 und 6 zulässig\n",
    "\n",
    "#### Verkaufserlös pro Tonne „Ramalin“ = 150 Euro\n",
    "\n",
    "### Zielsetzung: Gesamtgewinn pro Monat maximieren"
   ]
  },
  {
   "cell_type": "code",
   "execution_count": 1,
   "id": "28b7210b",
   "metadata": {},
   "outputs": [],
   "source": [
    "# Importieren der benötigten Bibliotheken\n",
    "import pulp\n",
    "from pulp import *"
   ]
  },
  {
   "cell_type": "code",
   "execution_count": 2,
   "id": "d4d692cc",
   "metadata": {},
   "outputs": [],
   "source": [
    "# Erstellen eines neuen PulP-Modells und festlegen ob es ein Maximierungs- oder Minimierungsproblem sein soll.\n",
    "prob = LpProblem(\"Backfett\", LpMaximize)\n"
   ]
  },
  {
   "cell_type": "code",
   "execution_count": 3,
   "id": "22339596",
   "metadata": {},
   "outputs": [],
   "source": [
    "# Erstellen der Variablen\n",
    "## PulP Variablen bestehen aus vier Parametern: Name, Untere Grenze, Obere Grenze und diskret oder linear\n",
    "### Ist kein Wert für ein Parameter angegeben, so nimmt PulP Standartwerte vor.\n",
    "\n",
    "x1 = LpVariable(\"Fett1\", 0)\n",
    "x2 = LpVariable(\"Fett2\", 0)\n",
    "x3 = LpVariable(\"Fett3\", 0)\n",
    "x4 = LpVariable(\"Fett4\", 0)\n",
    "x5 = LpVariable(\"Fett5\", 0)\n",
    "y  = LpVariable(\"Erloes\")"
   ]
  },
  {
   "cell_type": "code",
   "execution_count": 4,
   "id": "44455939",
   "metadata": {},
   "outputs": [],
   "source": [
    "# Festlegen der Zielfunktion\n",
    "prob += 150 * y - 110 * x1 - 120 * x2 - 130 * x3 - 110 * x4 - 115 * x5, \"Gesamterloes\""
   ]
  },
  {
   "cell_type": "code",
   "execution_count": 5,
   "id": "9bfad902",
   "metadata": {},
   "outputs": [],
   "source": [
    "# Unter der Nebenbedingung 1: Kapazitätsreduktion für pflanzliche Fette\n",
    "prob += x1 + x2 <= 200, \"NB01\""
   ]
  },
  {
   "cell_type": "code",
   "execution_count": 6,
   "id": "ac500e8e",
   "metadata": {},
   "outputs": [],
   "source": [
    "# Unter der Nebenbedingung 2: Kapazitätsreduktion für tierische Fette\n",
    "prob += x3 + x4 + x5 <= 250, \"NB02\""
   ]
  },
  {
   "cell_type": "code",
   "execution_count": 7,
   "id": "788f9484",
   "metadata": {},
   "outputs": [],
   "source": [
    "# Unter der Nebenbedingung 3: mindest Härtegrad 3\n",
    "prob += 8.8 * x1 + 6.1 * x2 + 2.0 * x3 + 4.2 * x4 + 5.0 * x5 >= 3 * y, \"NB03\""
   ]
  },
  {
   "cell_type": "code",
   "execution_count": 8,
   "id": "a8c223c6",
   "metadata": {},
   "outputs": [],
   "source": [
    "# Unter der Nebenbedingung 4: max Härtegrad 6\n",
    "prob += 8.8 * x1 + 6.1 * x2 + 2.0 * x3 + 4.2 * x4 + 5.0 * x5 <= 6 * y, \"NB04\""
   ]
  },
  {
   "cell_type": "code",
   "execution_count": 9,
   "id": "80f641f3",
   "metadata": {},
   "outputs": [],
   "source": [
    "# Unter der Nebenbedingung 5: Gesammtmenge entspricht Summe der Mengen\n",
    "prob += x1 + x2 + x3 + x4 + x5 == y , \"NB05\""
   ]
  },
  {
   "cell_type": "code",
   "execution_count": 10,
   "id": "015ded7d",
   "metadata": {},
   "outputs": [],
   "source": [
    "# Unter der Nebenbedingung 6: Nichtnegativität\n",
    "# Durch Erstellen der Variablen schon erfüllt"
   ]
  },
  {
   "cell_type": "code",
   "execution_count": 11,
   "id": "2bfda35a",
   "metadata": {},
   "outputs": [
    {
     "data": {
      "text/plain": [
       "[Erloes, Fett1, Fett2, Fett3, Fett4, Fett5]"
      ]
     },
     "execution_count": 11,
     "metadata": {},
     "output_type": "execute_result"
    }
   ],
   "source": [
    "#Problem in eine .lp Datei speichern\n",
    "prob.writeLP(\"Backfett.lp\")"
   ]
  },
  {
   "cell_type": "code",
   "execution_count": 12,
   "id": "b74e217f",
   "metadata": {},
   "outputs": [
    {
     "data": {
      "text/plain": [
       "1"
      ]
     },
     "execution_count": 12,
     "metadata": {},
     "output_type": "execute_result"
    }
   ],
   "source": [
    "# Modell lösen\n",
    "prob.solve()"
   ]
  },
  {
   "cell_type": "code",
   "execution_count": 13,
   "id": "96b0aa31",
   "metadata": {},
   "outputs": [
    {
     "name": "stdout",
     "output_type": "stream",
     "text": [
      "Status: Optimal\n"
     ]
    }
   ],
   "source": [
    "# Augeben des Status\n",
    "print(\"Status:\", LpStatus[prob.status])"
   ]
  },
  {
   "cell_type": "code",
   "execution_count": 14,
   "id": "169facc4",
   "metadata": {},
   "outputs": [
    {
     "name": "stdout",
     "output_type": "stream",
     "text": [
      "Erloes = 450.0\n",
      "Fett1 = 159.259\n",
      "Fett2 = 40.7407\n",
      "Fett3 = 0.0\n",
      "Fett4 = 250.0\n",
      "Fett5 = 0.0\n",
      "Gesammtgewinn:  17592.626000000004\n"
     ]
    }
   ],
   "source": [
    "# Ausgeben der Mengen für die jeweilige Variablen\n",
    "for v in prob.variables():\n",
    "    print(v.name, \"=\", v.varValue)\n",
    "        \n",
    "# Ausgeben Gesamtgewinn\n",
    "print(\"Gesammtgewinn: \", value(prob.objective))"
   ]
  },
  {
   "cell_type": "code",
   "execution_count": null,
   "id": "828c227d",
   "metadata": {},
   "outputs": [],
   "source": []
  }
 ],
 "metadata": {
  "kernelspec": {
   "display_name": "Python 3",
   "language": "python",
   "name": "python3"
  },
  "language_info": {
   "codemirror_mode": {
    "name": "ipython",
    "version": 3
   },
   "file_extension": ".py",
   "mimetype": "text/x-python",
   "name": "python",
   "nbconvert_exporter": "python",
   "pygments_lexer": "ipython3",
   "version": "3.8.8"
  }
 },
 "nbformat": 4,
 "nbformat_minor": 5
}
